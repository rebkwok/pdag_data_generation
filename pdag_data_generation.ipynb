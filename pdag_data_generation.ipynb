{
 "cells": [
  {
   "cell_type": "code",
   "execution_count": 1,
   "id": "a8b0d921-3db6-4dde-b0f2-5deeea12c72b",
   "metadata": {},
   "outputs": [],
   "source": [
    "import dagsim.base as ds\n",
    "import numpy as np\n",
    "import csv\n",
    "from pathlib import Path\n",
    "import scipy\n",
    "import warnings\n",
    "warnings.filterwarnings('ignore', category=FutureWarning)"
   ]
  },
  {
   "cell_type": "markdown",
   "id": "440326d2-c67d-492b-9d4f-412758a3c73e",
   "metadata": {},
   "source": [
    "Variables from first example in dd4d tutorial\n",
    "https://nbviewer.org/github/opensafely/mv-dummy-data/blob/main/prototype-report.html#example-1\n",
    "\n",
    "```\n",
    "age = node(\n",
    "    variable_formula = ~(rnorm(n=1, mean=60, sd=15))\n",
    "),\n",
    "sex = node(\n",
    "variable_formula = ~(rcat(n=1, levels = c(\"F\", \"M\"), p = c(0.51, 0.49))),\n",
    "),\n",
    "diabetes = node(\n",
    "variable_formula = ~(rbernoulli(n=1, p = plogis(-1 + age*0.002 + I(sex=='F')*-0.2))),\n",
    "),\n",
    "hosp_admission_count = node(\n",
    "variable_formula = ~(rpois(n=1, lambda = exp(-2.5 + age*0.03 + I(sex=='F')*-0.2 +diabetes*1)))\n",
    "),\n",
    "time_to_death = node(\n",
    "variable_formula = ~(round(rexp(n=1, rate = exp(-5 + age*0.01 + I(age^2)*0.0001 + diabetes*1.5 + hosp_admission_count*1)/365))),\n",
    ")\n",
    "```"
   ]
  },
  {
   "cell_type": "code",
   "execution_count": 2,
   "id": "ac34bce2-084d-471d-bfd9-6f2426e05490",
   "metadata": {},
   "outputs": [],
   "source": [
    "rng = np.random.default_rng()"
   ]
  },
  {
   "cell_type": "code",
   "execution_count": 3,
   "id": "03a08346-710e-417c-b7c9-03fb5d2cd65e",
   "metadata": {},
   "outputs": [],
   "source": [
    "age = ds.Node(name=\"age\", function=rng.normal, kwargs={\"loc\": 60, \"scale\": 15, \"size\": 1})"
   ]
  },
  {
   "cell_type": "code",
   "execution_count": 4,
   "id": "d7f9f369-a677-4455-add1-7020e6b89f34",
   "metadata": {},
   "outputs": [],
   "source": [
    "sex = ds.Node(name=\"sex\", function=rng.choice, kwargs={\"a\": [\"M\", \"F\"], \"p\": [0.51, 0.49]})"
   ]
  },
  {
   "cell_type": "code",
   "execution_count": 5,
   "id": "9acc1d01-a5de-430c-b6e8-2a91fc609f84",
   "metadata": {},
   "outputs": [],
   "source": [
    "def sex_as_int(sex):\n",
    "    return 1 if sex == \"F\" else 0"
   ]
  },
  {
   "cell_type": "code",
   "execution_count": 6,
   "id": "958b6e26-9154-4815-9856-c728c26eccdd",
   "metadata": {},
   "outputs": [],
   "source": [
    "def diabetes_fn(rng, age, sex):\n",
    "    return rng.binomial(n=1, p=scipy.special.expit(-1 + age*0.002 + sex_as_int(sex) * -0.2))"
   ]
  },
  {
   "cell_type": "code",
   "execution_count": 7,
   "id": "b0ba4366-fab2-44b1-8656-d24caf3480ef",
   "metadata": {},
   "outputs": [],
   "source": [
    "diabetes = ds.Node(name=\"diabetes\", function=diabetes_fn, kwargs={\"rng\": rng, \"age\": age, \"sex\": sex})"
   ]
  },
  {
   "cell_type": "code",
   "execution_count": 8,
   "id": "44dcae93-16e1-4f32-89fe-44e0e62d62f7",
   "metadata": {},
   "outputs": [],
   "source": [
    "def hosp_admission_count_fn(rng, age, sex, diabetes):\n",
    "    return rng.poisson(size=1, lam=np.exp(-2.5 + age*0.03 + sex_as_int(sex)*-0.2 +diabetes*1))"
   ]
  },
  {
   "cell_type": "code",
   "execution_count": 9,
   "id": "f9075994-aef1-458a-83ce-678f1201f949",
   "metadata": {},
   "outputs": [],
   "source": [
    "hosp_admission_count = ds.Node(name=\"hosp_admission_count\", function=hosp_admission_count_fn, kwargs={\"rng\": rng, \"age\": age, \"sex\": sex, \"diabetes\": diabetes})"
   ]
  },
  {
   "cell_type": "code",
   "execution_count": 10,
   "id": "c053ae4c-0641-4105-9dbc-6ea7f129d56b",
   "metadata": {},
   "outputs": [],
   "source": [
    "def time_to_death_fn(rng, age, diabetes, hosp_admission_count):\n",
    "    return rng.exponential(\n",
    "        size=1, \n",
    "        scale=np.exp(\n",
    "            -5 + age*0.01 + ((age**2)*0.0001) + diabetes * 1.5 + hosp_admission_count * 1\n",
    "        )/365\n",
    "    )"
   ]
  },
  {
   "cell_type": "code",
   "execution_count": 11,
   "id": "f89cc13d-2703-4a26-9e45-8a5c6a5b2830",
   "metadata": {},
   "outputs": [],
   "source": [
    "time_to_death = ds.Node(name=\"time_to_death\", function=time_to_death_fn, kwargs={\"rng\": rng, \"age\": age, \"diabetes\": diabetes, \"hosp_admission_count\": hosp_admission_count})"
   ]
  },
  {
   "cell_type": "code",
   "execution_count": 12,
   "id": "77ae67a5-54df-4567-b530-69145cc2468e",
   "metadata": {},
   "outputs": [],
   "source": [
    "graph = ds.Graph(name=\"demo_graph\", list_nodes=[age, sex, diabetes, hosp_admission_count, time_to_death])"
   ]
  },
  {
   "cell_type": "code",
   "execution_count": 16,
   "id": "e970b3dc-fddf-49c2-924b-ea3df7b808b3",
   "metadata": {},
   "outputs": [],
   "source": [
    "graph.draw()"
   ]
  },
  {
   "cell_type": "code",
   "execution_count": 14,
   "id": "3096ffb3-788b-42e9-b81d-b5d3f395b055",
   "metadata": {},
   "outputs": [
    {
     "name": "stdout",
     "output_type": "stream",
     "text": [
      "2024-09-20 12:02:54.994077: Simulation started.\n",
      "2024-09-20 12:02:54.994758: Simulating node \"age\".\n",
      "2024-09-20 12:02:54.995604: Simulating node \"sex\".\n",
      "2024-09-20 12:02:54.997245: Simulating node \"diabetes\".\n",
      "2024-09-20 12:02:55.011791: Simulating node \"hosp_admission_count\".\n",
      "2024-09-20 12:02:55.013576: Simulating node \"time_to_death\".\n",
      "2024-09-20 12:02:55.020093: Simulation finished in 0.0260 seconds.\n"
     ]
    }
   ],
   "source": [
    "data = graph.simulate(num_samples=20, csv_name=\"demo_data\")"
   ]
  },
  {
   "cell_type": "code",
   "execution_count": 15,
   "id": "2392d2f7-46cd-4af3-9d5c-2a57928ea045",
   "metadata": {},
   "outputs": [
    {
     "name": "stdout",
     "output_type": "stream",
     "text": [
      "age,sex,diabetes,hosp_admission_count,time_to_death\n",
      "[33.86051237],M,[1],[2],[0.00191583]\n",
      "[60.42863862],M,[0],[0],[3.27029842e-05]\n",
      "[53.51355427],M,[1],[2],[0.00022324]\n",
      "[58.70989768],F,[1],[1],[0.00031219]\n",
      "[56.76104256],F,[1],[2],[0.00105921]\n",
      "[86.36782201],M,[0],[2],[0.00033341]\n",
      "[51.74176839],M,[0],[0],[4.922631e-06]\n",
      "[53.51032054],F,[1],[4],[0.00139998]\n",
      "[62.1428733],M,[0],[1],[3.29997181e-06]\n",
      "[84.24442133],M,[0],[0],[2.9037925e-05]\n",
      "[54.73395752],F,[1],[1],[0.00063925]\n",
      "[46.00845351],M,[0],[0],[3.53652923e-05]\n",
      "[54.64338671],F,[0],[0],[2.70418527e-05]\n",
      "[49.11102081],F,[0],[0],[1.64008394e-06]\n",
      "[62.61083576],M,[1],[1],[0.00059983]\n",
      "[64.9909159],M,[0],[0],[2.94413712e-06]\n",
      "[54.37972677],F,[1],[0],[0.00028093]\n",
      "[64.59080979],M,[0],[0],[2.58387313e-05]\n",
      "[21.24513734],F,[0],[0],[1.11831421e-05]\n",
      "[36.83594173],M,[0],[0],[3.6615347e-05]\n",
      "\n"
     ]
    }
   ],
   "source": [
    "for row in Path(\"demo_data.csv\").read_text().split(\"\\n\"):\n",
    "    print(row)"
   ]
  }
 ],
 "metadata": {
  "kernelspec": {
   "display_name": "Python 3 (ipykernel)",
   "language": "python",
   "name": "python3"
  },
  "language_info": {
   "codemirror_mode": {
    "name": "ipython",
    "version": 3
   },
   "file_extension": ".py",
   "mimetype": "text/x-python",
   "name": "python",
   "nbconvert_exporter": "python",
   "pygments_lexer": "ipython3",
   "version": "3.10.13"
  }
 },
 "nbformat": 4,
 "nbformat_minor": 5
}
